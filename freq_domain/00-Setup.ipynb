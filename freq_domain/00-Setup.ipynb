{
 "cells": [
  {
   "cell_type": "markdown",
   "id": "ca20e844",
   "metadata": {},
   "source": [
    "# Overview\n",
    "\n",
    "This set of notebooks is organized to serve as a hands-on introduction to using spectral parameterization. \n",
    "\n",
    "Note that this tutorial does not replace or circumvent the module documentation - meaning that things are already detailed and explained in the documentation will not be re-explained here. Rather, where the documentation shows you how things work, this tutorial is aimed at giving you a chance to get practice with the module. Alternately stated, we can think of this as something like a _problem set_ for hands-on practice, rather than documentation materials. For detailated explanations, please refer to the documentation. "
   ]
  },
  {
   "cell_type": "markdown",
   "id": "08da61aa",
   "metadata": {},
   "source": [
    "## Setup\n",
    "\n",
    "Getting setup for the tutorial.\n",
    "\n",
    "In these materials, we will use the following modules, that must be installed in your Python environment: \n",
    "\n",
    "- [fooof](https://github.com/fooof-tools/fooof), a module for parameterizing neural power spectra\n",
    "- [neurodsp](https://github.com/neurodsp-tools/neurodsp), a module for digital signal processing of neural data"
   ]
  },
  {
   "cell_type": "markdown",
   "id": "269abc17",
   "metadata": {},
   "source": [
    "### Testing installations\n",
    "\n",
    "Run the next cell to check if you have the required modules installed. "
   ]
  },
  {
   "cell_type": "markdown",
   "id": "3ab15bc1",
   "metadata": {},
   "source": [
    "#### Import FOOOF"
   ]
  },
  {
   "cell_type": "code",
   "execution_count": 1,
   "id": "bd93f3fa",
   "metadata": {},
   "outputs": [],
   "source": [
    "import fooof"
   ]
  },
  {
   "cell_type": "markdown",
   "id": "a8cd9827",
   "metadata": {},
   "source": [
    "If running the above cell raises an error, make sure you have the `fooof` module installed."
   ]
  },
  {
   "cell_type": "markdown",
   "id": "83422e2a",
   "metadata": {},
   "source": [
    "#### Import neurodsp"
   ]
  },
  {
   "cell_type": "code",
   "execution_count": 2,
   "id": "7724afa4",
   "metadata": {},
   "outputs": [],
   "source": [
    "import neurodsp"
   ]
  },
  {
   "cell_type": "markdown",
   "id": "0c102e67",
   "metadata": {},
   "source": [
    "If running the above cell raises an error, make sure you have the `neurodsp` module installed."
   ]
  },
  {
   "cell_type": "markdown",
   "id": "37d90317",
   "metadata": {},
   "source": [
    "## Get Started with Tutorials\n",
    "\n",
    "To get started, we will first make sure you can run and interact with the availalble documentation materials. "
   ]
  },
  {
   "cell_type": "markdown",
   "id": "217d771b",
   "metadata": {},
   "source": [
    "### specparam tutorials\n",
    "\n",
    "To get started, let's make sure we can run and use the documentation. \n",
    "\n",
    "- go to the [specparam documentation site](https://fooof-tools.github.io/)\n",
    "- click on 'Tutorials', and then '01-Model Description'\n",
    "- go to the bottom of the page, and click the button to download the example as a notebook\n",
    "- save this notebook, and then open it locally on your computer\n",
    "- make sure you can run the tutorial (for example, restart and run all)"
   ]
  },
  {
   "cell_type": "markdown",
   "id": "c3031297",
   "metadata": {},
   "source": [
    "### neurodsp tutorials\n",
    "\n",
    "You should also do the same with the\n",
    "[neurodsp documentation](https://neurodsp-tools.github.io/). \n",
    "\n",
    "Note that the neurodsp tutorials are organized a little differently, with tutorials\n",
    "\n",
    "Some key tutorials you should check, download, and run include:\n",
    "- the tutorials on filtering, including the main filter tutorial and the FIR tutorial\n",
    "- the tutorial on estimating spectral power\n",
    "- the tutorials on simulating time series, including simulating periodic, aperiodic, and combined signals"
   ]
  }
 ],
 "metadata": {
  "kernelspec": {
   "display_name": "Python 3 (ipykernel)",
   "language": "python",
   "name": "python3"
  },
  "language_info": {
   "codemirror_mode": {
    "name": "ipython",
    "version": 3
   },
   "file_extension": ".py",
   "mimetype": "text/x-python",
   "name": "python",
   "nbconvert_exporter": "python",
   "pygments_lexer": "ipython3",
   "version": "3.8.3"
  }
 },
 "nbformat": 4,
 "nbformat_minor": 5
}
