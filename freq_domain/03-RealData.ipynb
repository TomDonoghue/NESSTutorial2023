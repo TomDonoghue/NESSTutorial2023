{
 "cells": [
  {
   "cell_type": "markdown",
   "id": "e8b102aa",
   "metadata": {},
   "source": [
    "# Real Data Analyses\n",
    "\n",
    "In this section, we will explore applying spectral parameterization to a real dataset.\n",
    "\n",
    "The data is from anesthesia, including a waking data segment, a low-dose propofol segment, and a high-dose propofol segment. See the data folder for more information on the data. \n",
    "\n",
    "The main goal here is to explore the real data, and use spectral parameterization to come to some conclusions about what is happening in the data, and what is changing between conditions. \n",
    "\n",
    "There are some prompts in this notebook to guide you towards some analyses you can apply. That said, these are meant as something of a starting point - you are encouraged to go beyond the prompts and to continue to explore this data."
   ]
  },
  {
   "cell_type": "code",
   "execution_count": null,
   "id": "dbdf801c",
   "metadata": {},
   "outputs": [],
   "source": [
    "import os\n",
    "from pathlib import Path\n",
    "\n",
    "from scipy.io import loadmat\n",
    "\n",
    "# Import fooof functions\n",
    "from fooof import FOOOF\n",
    "from fooof.plts import plot_spectrum\n",
    "from fooof.analysis import get_band_peak_fm\n",
    "\n",
    "# Import neurodsp functions\n",
    "from neurodsp.filt import filter_signal\n",
    "from neurodsp.spectral import compute_spectrum\n",
    "from neurodsp.plts import plot_time_series, plot_power_spectra"
   ]
  },
  {
   "cell_type": "markdown",
   "id": "90a58e78",
   "metadata": {},
   "source": [
    "## Load the Data\n",
    "\n",
    "First, we will load some data. This section is filled in for you. "
   ]
  },
  {
   "cell_type": "code",
   "execution_count": null,
   "id": "00d71752",
   "metadata": {},
   "outputs": [],
   "source": [
    "# Define the data path\n",
    "data_path = Path('../data')"
   ]
  },
  {
   "cell_type": "code",
   "execution_count": null,
   "id": "92dae243",
   "metadata": {},
   "outputs": [],
   "source": [
    "# Get available data files\n",
    "data_files_lst = [file for file in os.listdir(data_path) if '.mat' in file]\n",
    "data_files_lst"
   ]
  },
  {
   "cell_type": "markdown",
   "id": "f475584a",
   "metadata": {},
   "source": [
    "### Data Information\n",
    "\n",
    "EEG data from a healthy subject during propofol‑induced unconsciousness:\n",
    "-  `eeganes07laplac250_detrend_all_t180.mat` Awake, before propofol induction\n",
    "-  `eeganes07laplac250_detrend_all_t3070.mat` Unconscious, at a low dose of propofol\n",
    "-  `eeganes07laplac250_detrend_all_t4710.mat` Unconscious, at a high dose of propofol"
   ]
  },
  {
   "cell_type": "code",
   "execution_count": null,
   "id": "558c4c73",
   "metadata": {},
   "outputs": [],
   "source": [
    "# Get list of data file names, and store in a labelled dictionary\n",
    "data_files_lst.sort()\n",
    "data_files = {\n",
    "    'awake' : data_files_lst[0],\n",
    "    'low_dose' : data_files_lst[1],\n",
    "    'high_dose' : data_files_lst[2],\n",
    "}"
   ]
  },
  {
   "cell_type": "markdown",
   "id": "3d2a2bba",
   "metadata": {},
   "source": [
    "### Load a Data File\n",
    "\n",
    "To start, we will load a specific file to explore. \n",
    "\n",
    "If you want to switch which file you explore, change the 'condition' value below. "
   ]
  },
  {
   "cell_type": "code",
   "execution_count": null,
   "id": "3adb6f0c",
   "metadata": {},
   "outputs": [],
   "source": [
    "# Set which data file to load (change here to run another file)\n",
    "condition = 'awake'   # 'awake', 'low_dose', 'high_dose'"
   ]
  },
  {
   "cell_type": "code",
   "execution_count": null,
   "id": "478e24ac",
   "metadata": {},
   "outputs": [],
   "source": [
    "# Load a matfile with the data\n",
    "matfile = loadmat(data_path / data_files[condition], squeeze_me=True)"
   ]
  },
  {
   "cell_type": "code",
   "execution_count": null,
   "id": "cde18af7",
   "metadata": {},
   "outputs": [],
   "source": [
    "# Check the data keys that are the matfile\n",
    "matfile.keys()"
   ]
  },
  {
   "cell_type": "code",
   "execution_count": null,
   "id": "24de4d27",
   "metadata": {},
   "outputs": [],
   "source": [
    "# Extract data fields of interest\n",
    "data = matfile['y'].T        # Data matrix - transpose to have channels as rows\n",
    "fs = matfile['Fs']           # Sampling rate\n",
    "times = matfile['ta']        # Times vector"
   ]
  },
  {
   "cell_type": "code",
   "execution_count": null,
   "id": "21794cc1",
   "metadata": {},
   "outputs": [],
   "source": [
    "# For simplicity, reset times vector to go from 0 to 30\n",
    "times = times - times[0]"
   ]
  },
  {
   "cell_type": "markdown",
   "id": "3c7273b0",
   "metadata": {},
   "source": [
    "### Extract channel of interest\n",
    "\n",
    "To get started, we will choose a particular channel to examine. \n",
    "\n",
    "Channels 40 & 41 are frontal channels that are good channels to explore first, as they display features of interest and clear changes across the different brain states we have available. You should start with these channels - but feel free to explore other channels after. "
   ]
  },
  {
   "cell_type": "code",
   "execution_count": null,
   "id": "5784aae3",
   "metadata": {},
   "outputs": [],
   "source": [
    "# Define channel index of interest\n",
    "chind = 41  # 40, 41"
   ]
  },
  {
   "cell_type": "code",
   "execution_count": null,
   "id": "495122ab",
   "metadata": {},
   "outputs": [],
   "source": [
    "# Extract channel data of interest\n",
    "channel_data = data[chind, :]"
   ]
  },
  {
   "cell_type": "markdown",
   "id": "178d6815",
   "metadata": {},
   "source": [
    "## Data Explorations & Analyses\n",
    "\n",
    "In this section, we will now start looking at and exploring / analyzing the data. \n",
    "\n",
    "From here, you need to start filling in code!\n",
    "\n",
    "Note that to complete the prompts that are defined, you should not have to import any additional functions - however, you are more than welcome to import additional tools in order to extend the analyses. "
   ]
  },
  {
   "cell_type": "markdown",
   "id": "430ff2b3",
   "metadata": {},
   "source": [
    "### Look at the time series\n",
    "\n",
    "First, let's visualize the time series. "
   ]
  },
  {
   "cell_type": "code",
   "execution_count": null,
   "id": "8eed148e",
   "metadata": {},
   "outputs": [],
   "source": [
    "# Plot the time series\n",
    "..."
   ]
  },
  {
   "cell_type": "markdown",
   "id": "103fdd62",
   "metadata": {},
   "source": [
    "### Compute power spectrum\n",
    "\n",
    "Next, let's compute a power spectra."
   ]
  },
  {
   "cell_type": "code",
   "execution_count": null,
   "id": "b0626223",
   "metadata": {},
   "outputs": [],
   "source": [
    "# Compute power spectrum\n",
    "..."
   ]
  },
  {
   "cell_type": "code",
   "execution_count": null,
   "id": "81c67c7a",
   "metadata": {},
   "outputs": [],
   "source": [
    "# Visualize power spectrum\n",
    "..."
   ]
  },
  {
   "cell_type": "markdown",
   "id": "bb2eab13",
   "metadata": {},
   "source": [
    "### Parameterize the Spectrum\n",
    "\n",
    "Next, let's fit a spectral model to the power spectrum we just computed."
   ]
  },
  {
   "cell_type": "code",
   "execution_count": null,
   "id": "f8445242",
   "metadata": {},
   "outputs": [],
   "source": [
    "# Initialize spectral model\n",
    "..."
   ]
  },
  {
   "cell_type": "code",
   "execution_count": null,
   "id": "a6831cd8",
   "metadata": {},
   "outputs": [],
   "source": [
    "# Fit spectral model to the data\n",
    "..."
   ]
  },
  {
   "cell_type": "markdown",
   "id": "ebc2ba7e",
   "metadata": {},
   "source": [
    "#### Explore parameters\n",
    "\n",
    "Now that we have a spectral model, explore the parameters that it fit. \n",
    "\n",
    "In particular, make sure to "
   ]
  },
  {
   "cell_type": "code",
   "execution_count": null,
   "id": "f1b616bc",
   "metadata": {},
   "outputs": [],
   "source": [
    "# Extract the dominant low frequency peak\n",
    "..."
   ]
  },
  {
   "cell_type": "markdown",
   "id": "af27865b",
   "metadata": {},
   "source": [
    "### Filter to the peak range\n",
    "\n",
    "Next, let's explore the rhythm in the data. \n",
    "\n",
    "Filter the data around the frequency range of dominant peak (for example, +/- bandwidth around peak center frequency). "
   ]
  },
  {
   "cell_type": "code",
   "execution_count": null,
   "id": "bb99635a",
   "metadata": {},
   "outputs": [],
   "source": [
    "# Filter the signal to narrowband range\n",
    "..."
   ]
  },
  {
   "cell_type": "code",
   "execution_count": null,
   "id": "e190514b",
   "metadata": {},
   "outputs": [],
   "source": [
    "# Visualize the narrowband filtered signal\n",
    "..."
   ]
  },
  {
   "cell_type": "code",
   "execution_count": null,
   "id": "d6b2d526",
   "metadata": {},
   "outputs": [],
   "source": [
    "# Plot the filtered trace on top of the original data\n",
    "..."
   ]
  },
  {
   "cell_type": "markdown",
   "id": "8e341ec9",
   "metadata": {},
   "source": [
    "In the above, we used sepctral parameterization to identify a peak of interest, and then examine this in the data. \n",
    "\n",
    "What does it look like when we do so:\n",
    "- Is peak frequency as identified by spectral parameterization clearly present in the time series?\n",
    "- If so, is the rhythm continuous / ongoing? Is it sinusoidal?\n",
    "- If you answer no to either question above, what does this mean about how we should interpret / further analyze the data?"
   ]
  },
  {
   "cell_type": "markdown",
   "id": "69cf6845",
   "metadata": {},
   "source": [
    "## Compare Data Across Brain States\n",
    "\n",
    "Next, we will explore and compare the data across the different brain states.\n",
    "\n",
    "Things you should try:\n",
    "- Load and plot the time series for each state, to visually compare them\n",
    "- Compute the power spectra across states, to visually compare them\n",
    "- Fit spectral models across each state\n",
    "- Compare the fit parameters, examing which parameters change across the different brain states"
   ]
  },
  {
   "cell_type": "code",
   "execution_count": null,
   "id": "6a76ddd8",
   "metadata": {},
   "outputs": [],
   "source": [
    "# Check the available data files\n",
    "data_files "
   ]
  },
  {
   "cell_type": "code",
   "execution_count": null,
   "id": "59956855",
   "metadata": {},
   "outputs": [],
   "source": [
    "..."
   ]
  },
  {
   "cell_type": "markdown",
   "id": "f6614ab8",
   "metadata": {},
   "source": [
    "## Conclusions\n",
    "\n",
    "What have we learned about this dataset from using spectral parameterization?\n",
    "\n",
    "Are there more aspects of the data we may want to investigate, that spectral parameterization does not do?"
   ]
  }
 ],
 "metadata": {
  "kernelspec": {
   "display_name": "Python 3 (ipykernel)",
   "language": "python",
   "name": "python3"
  },
  "language_info": {
   "codemirror_mode": {
    "name": "ipython",
    "version": 3
   },
   "file_extension": ".py",
   "mimetype": "text/x-python",
   "name": "python",
   "nbconvert_exporter": "python",
   "pygments_lexer": "ipython3",
   "version": "3.8.3"
  }
 },
 "nbformat": 4,
 "nbformat_minor": 5
}
