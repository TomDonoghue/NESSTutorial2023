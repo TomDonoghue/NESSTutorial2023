{
 "cells": [
  {
   "cell_type": "markdown",
   "id": "502215be",
   "metadata": {},
   "source": [
    "# Simulations\n",
    "\n",
    "In this section, we will work with simulated data in order to explore some properties of the data. "
   ]
  },
  {
   "cell_type": "code",
   "execution_count": null,
   "id": "ed04f76f",
   "metadata": {},
   "outputs": [],
   "source": [
    "# Specparam imports\n",
    "from fooof import FOOOF\n",
    "from fooof.plts import plot_spectrum, plot_spectra\n",
    "\n",
    "# Neurodsp imports\n",
    "from neurodsp.spectral import compute_spectrum\n",
    "from neurodsp.filt import filter_signal\n",
    "from neurodsp.plts import plot_time_series"
   ]
  },
  {
   "cell_type": "markdown",
   "id": "174e4fe9",
   "metadata": {},
   "source": [
    "## Simulate Power Spectra\n",
    "\n",
    "First, we will start by simulating some power spectra.\n",
    "\n",
    "See the [simulation tutorials](https://fooof-tools.github.io/fooof/auto_examples/index.html#simulations) for guidance on simulating power spectra.\n",
    "\n",
    "To start, simulate a power spectra, over the range of 1-40 Hz, defining an aperiodic compont reflecting pink noise, and adding an alpha peak. Visualize the power spectra and make sure it looks as you would expect. "
   ]
  },
  {
   "cell_type": "code",
   "execution_count": null,
   "id": "4fca20ee",
   "metadata": {},
   "outputs": [],
   "source": [
    "# Import simulation functions from fooof\n",
    "from fooof.sim import gen_power_spectrum, gen_group_power_spectra"
   ]
  },
  {
   "cell_type": "code",
   "execution_count": null,
   "id": "c4756463",
   "metadata": {},
   "outputs": [],
   "source": [
    "# Simulate a power spectrum\n",
    "..."
   ]
  },
  {
   "cell_type": "code",
   "execution_count": null,
   "id": "1deeb37f",
   "metadata": {},
   "outputs": [],
   "source": [
    "# Visualize the simulated power spectrum\n",
    "..."
   ]
  },
  {
   "cell_type": "markdown",
   "id": "57a1a0d6",
   "metadata": {},
   "source": [
    "Now, fit a spectral model to our simulated power spectra."
   ]
  },
  {
   "cell_type": "code",
   "execution_count": null,
   "id": "5e48c67b",
   "metadata": {},
   "outputs": [],
   "source": [
    "# Initialize a spectral model\n",
    "..."
   ]
  },
  {
   "cell_type": "code",
   "execution_count": null,
   "id": "70924d7d",
   "metadata": {},
   "outputs": [],
   "source": [
    "# Fit a spectral model to the simulated power spectrum\n",
    "..."
   ]
  },
  {
   "cell_type": "markdown",
   "id": "5ee6e46a",
   "metadata": {},
   "source": [
    "Does the fitting work well (do the measured parameters match the simulated ones)?\n",
    "\n",
    "From here, you can explore simulating and fitting different power spectra. \n",
    "\n",
    "Explore some different simulations and model settings - find one (or more) examples when the fitting works well, and one (or more) examples about when the fitting does not work very well. What does this tell us about the fitting procedure?"
   ]
  },
  {
   "cell_type": "markdown",
   "id": "cb21d488",
   "metadata": {},
   "source": [
    "## Simulate Time Series\n",
    "\n",
    "Next we will simulate some time series, using [neurodsp](https://neurodsp-tools.github.io). \n",
    "\n",
    "For guidance on simulating time series, see [simulation tutorials](https://neurodsp-tools.github.io/neurodsp/auto_tutorials/index.html#simulating-signals)"
   ]
  },
  {
   "cell_type": "code",
   "execution_count": null,
   "id": "4f5d8014",
   "metadata": {},
   "outputs": [],
   "source": [
    "# Import simulation functions from neurodsp\n",
    "from neurodsp.sim.periodic import sim_oscillation, sim_bursty_oscillation\n",
    "from neurodsp.sim.aperiodic import sim_powerlaw, sim_synaptic_current\n",
    "from neurodsp.sim.combined import sim_combined"
   ]
  },
  {
   "cell_type": "code",
   "execution_count": null,
   "id": "a072fd6e",
   "metadata": {},
   "outputs": [],
   "source": [
    "# Define simulation settings\n",
    "n_seconds = 10\n",
    "fs = 1000"
   ]
  },
  {
   "cell_type": "markdown",
   "id": "0d6e26bb",
   "metadata": {},
   "source": [
    "#### Simulate an oscillation\n",
    "\n",
    "Simulate an oscillation, and visualize it. "
   ]
  },
  {
   "cell_type": "code",
   "execution_count": null,
   "id": "67bc5622",
   "metadata": {},
   "outputs": [],
   "source": [
    "# Simulate an oscillating time series\n",
    "..."
   ]
  },
  {
   "cell_type": "code",
   "execution_count": null,
   "id": "6c24342c",
   "metadata": {},
   "outputs": [],
   "source": [
    "# Visualize the oscillating time series\n",
    "..."
   ]
  },
  {
   "cell_type": "markdown",
   "id": "fb883a3c",
   "metadata": {},
   "source": [
    "#### Simulate an aperiodic signal\n",
    "\n",
    "Simulate a time series of aperiodic activity, and visualize it. "
   ]
  },
  {
   "cell_type": "code",
   "execution_count": null,
   "id": "2eb96114",
   "metadata": {},
   "outputs": [],
   "source": [
    "# Simulate an aperiodic time series\n",
    "..."
   ]
  },
  {
   "cell_type": "code",
   "execution_count": null,
   "id": "4cb16989",
   "metadata": {},
   "outputs": [],
   "source": [
    "# Visualize the aperiodic time series\n",
    "..."
   ]
  },
  {
   "cell_type": "markdown",
   "id": "e634956f",
   "metadata": {},
   "source": [
    "#### Simulate a combined signal\n",
    "\n",
    "Simulate an signal that is a combination of a periodic and aperiodic component, and visualize it. "
   ]
  },
  {
   "cell_type": "code",
   "execution_count": null,
   "id": "7d2598c6",
   "metadata": {},
   "outputs": [],
   "source": [
    "# Define the components for a combined time series\n",
    "..."
   ]
  },
  {
   "cell_type": "code",
   "execution_count": null,
   "id": "2bc5bd7f",
   "metadata": {},
   "outputs": [],
   "source": [
    "# Simulate a combined time series\n",
    "..."
   ]
  },
  {
   "cell_type": "code",
   "execution_count": null,
   "id": "f61365b2",
   "metadata": {},
   "outputs": [],
   "source": [
    "# Visualize the combined time series\n",
    "..."
   ]
  },
  {
   "cell_type": "markdown",
   "id": "2633e081",
   "metadata": {},
   "source": [
    "### Fitting Spectral Models to Simulated Signals\n",
    "\n",
    "Compute the power spectrum and fit a spectral model to the combined signal that you just simulated. "
   ]
  },
  {
   "cell_type": "code",
   "execution_count": null,
   "id": "9ba4b6b3",
   "metadata": {},
   "outputs": [],
   "source": [
    "# Compute a power spectrum of the simulated combined time series\n",
    "..."
   ]
  },
  {
   "cell_type": "code",
   "execution_count": null,
   "id": "69ed4da1",
   "metadata": {},
   "outputs": [],
   "source": [
    "# Initialize a spectral model\n",
    "..."
   ]
  },
  {
   "cell_type": "code",
   "execution_count": null,
   "id": "28059201",
   "metadata": {},
   "outputs": [],
   "source": [
    "# Fit the spectral model to the power spectrum of the combined time series\n",
    "..."
   ]
  },
  {
   "cell_type": "markdown",
   "id": "9a43951c",
   "metadata": {},
   "source": [
    "## Exploring Measures on Simulated Signals\n",
    "\n",
    "Next, we will explore different transformations and measures that we can apply to simulated data. "
   ]
  },
  {
   "cell_type": "markdown",
   "id": "3b9ea418",
   "metadata": {},
   "source": [
    "### Filtering Aperiodic Activity\n",
    "\n",
    "- Simulate a aperiodic signal (eg. pink noise)\n",
    "- Filter the simulated signal to a narrowband range (eg. the alpha range)\n",
    "\n",
    "What does it look like? What does this show?"
   ]
  },
  {
   "cell_type": "code",
   "execution_count": null,
   "id": "f09499e5",
   "metadata": {},
   "outputs": [],
   "source": [
    "..."
   ]
  },
  {
   "cell_type": "markdown",
   "id": "e68e48db",
   "metadata": {},
   "source": [
    "### Comparing filtered narrowband ranges\n",
    "\n",
    "- Simulate a pink noise signal\n",
    "- Simulate a brown noise signal\n",
    "- Apply a narrowband bandpass filter (eg. alpha: 8-12 Hz) to both signals\n",
    "- Plot these signals on top of each other, to compare\n",
    "\n",
    "Bonus: compute and compare the analytic amplitude of each of the filtered signals."
   ]
  },
  {
   "cell_type": "code",
   "execution_count": null,
   "id": "4022edeb",
   "metadata": {},
   "outputs": [],
   "source": [
    "..."
   ]
  },
  {
   "cell_type": "markdown",
   "id": "5aa2e770",
   "metadata": {},
   "source": [
    "### Filtering Asymmetric Waveforms\n",
    "\n",
    "- Simulate a periodic signal with asymmetric waveforms (eg. sawtooth waves)\n",
    "- Filter the simulated signal to a narrowband range (eg. the alpha range)\n",
    "\n",
    "What does it look like? What does this show?"
   ]
  },
  {
   "cell_type": "code",
   "execution_count": null,
   "id": "08aa604a",
   "metadata": {},
   "outputs": [],
   "source": [
    "..."
   ]
  },
  {
   "cell_type": "markdown",
   "id": "02566280",
   "metadata": {},
   "source": [
    "## Conclusion\n",
    "\n",
    "In the above, we explored simulating data (including power spectra and time series), and using these simulations to test and explore different method properties.\n",
    "\n",
    "Note that in the above we only scratched the surface of what can be explored using simulated data. In general, simulating data with different properties and exploring the outputs of different transforms and analysis methods is a useful strategy for exploring how these methods work and gaining an intuition for this kind of data. \n",
    "\n",
    "To further explore, think of some other method or idea you can test, and use some simulations to do so. "
   ]
  }
 ],
 "metadata": {
  "kernelspec": {
   "display_name": "Python 3 (ipykernel)",
   "language": "python",
   "name": "python3"
  },
  "language_info": {
   "codemirror_mode": {
    "name": "ipython",
    "version": 3
   },
   "file_extension": ".py",
   "mimetype": "text/x-python",
   "name": "python",
   "nbconvert_exporter": "python",
   "pygments_lexer": "ipython3",
   "version": "3.10.11"
  }
 },
 "nbformat": 4,
 "nbformat_minor": 5
}
