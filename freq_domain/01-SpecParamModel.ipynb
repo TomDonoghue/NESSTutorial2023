{
 "cells": [
  {
   "cell_type": "markdown",
   "id": "bfd277d2",
   "metadata": {},
   "source": [
    "# Fitting Spectral Models\n",
    "\n",
    "In this first section, the main goal will be to get some practice with fitting spectral models to data. "
   ]
  },
  {
   "cell_type": "markdown",
   "id": "6c8069ab",
   "metadata": {},
   "source": [
    "## Power Spectra Data\n",
    "\n",
    "In this first section we will load some example power spectra data\n",
    "\n",
    "Note: to answer the specific questions asked here, you shouldn't need to import any additional functions. However, you are welcome and encouraged to import and use additional functions and tools if you wish to further explore this data. "
   ]
  },
  {
   "cell_type": "code",
   "execution_count": null,
   "id": "c033b97e",
   "metadata": {},
   "outputs": [],
   "source": [
    "# Import spectral parameterization code\n",
    "from fooof import FOOOF\n",
    "from fooof.analysis import get_band_peak_fm\n",
    "\n",
    "# Import helper function to load example power spectra data\n",
    "from fooof.utils.download import load_fooof_data"
   ]
  },
  {
   "cell_type": "markdown",
   "id": "70cf397c",
   "metadata": {},
   "source": [
    "#### Example 1\n",
    "\n",
    "First, we will load an example piece of data. Initialize a fooof object and fit a spectral model to this data. "
   ]
  },
  {
   "cell_type": "code",
   "execution_count": null,
   "id": "2a96de9a",
   "metadata": {},
   "outputs": [],
   "source": [
    "# Load an example power spectrum\n",
    "freqs = load_fooof_data('freqs.npy')\n",
    "powers = load_fooof_data('spectrum.npy')"
   ]
  },
  {
   "cell_type": "code",
   "execution_count": null,
   "id": "2d17eb71",
   "metadata": {},
   "outputs": [],
   "source": [
    "# Initialize a spectral model object\n",
    "..."
   ]
  },
  {
   "cell_type": "code",
   "execution_count": null,
   "id": "ac84b0c5",
   "metadata": {},
   "outputs": [],
   "source": [
    "# Fit a spectral model to the data\n",
    "..."
   ]
  },
  {
   "cell_type": "markdown",
   "id": "1184e4e8",
   "metadata": {},
   "source": [
    "#### Example 2\n",
    "\n",
    "Next we will load and fit a spectral model to a different example piece of data. \n",
    "\n",
    "Hint: this example data has a different frequency range - so you should explore limiting the fit range of the spectral model. "
   ]
  },
  {
   "cell_type": "code",
   "execution_count": null,
   "id": "36c6fdd4",
   "metadata": {},
   "outputs": [],
   "source": [
    "# Load a second example power spectrum\n",
    "freqs = load_fooof_data('freqs_2.npy')\n",
    "powers = load_fooof_data('spectrum_2.npy')"
   ]
  },
  {
   "cell_type": "code",
   "execution_count": null,
   "id": "caae92a1",
   "metadata": {},
   "outputs": [],
   "source": [
    "# Initialize a spectral model object\n",
    "..."
   ]
  },
  {
   "cell_type": "code",
   "execution_count": null,
   "id": "f847965f",
   "metadata": {},
   "outputs": [],
   "source": [
    "# Fit a spectral model to the data\n",
    "..."
   ]
  },
  {
   "cell_type": "markdown",
   "id": "0b7c1af3",
   "metadata": {},
   "source": [
    "#### Compare Model 1 & Model 2\n",
    "\n",
    "Now let's compare the models we fit to these different pieces of example data, by comparing the fit parameters from the spectral models. \n",
    "\n",
    "- Which power spectrum has the steepest exponent?\n",
    "- Which power spectrum has the biggest peak?"
   ]
  },
  {
   "cell_type": "code",
   "execution_count": null,
   "id": "82bd778e",
   "metadata": {},
   "outputs": [],
   "source": [
    "# Compare aperiodic exponent\n",
    "..."
   ]
  },
  {
   "cell_type": "code",
   "execution_count": null,
   "id": "717c249e",
   "metadata": {},
   "outputs": [],
   "source": [
    "# Compare periodic peaks\n",
    "..."
   ]
  },
  {
   "cell_type": "markdown",
   "id": "a342aa6e",
   "metadata": {},
   "source": [
    "#### Example 3\n",
    "\n",
    "This example data comes from a different source - it is intra-cranial data. For intracranial data, we can think about fitting a broader frequency range - try fitting the range of 1-75 Hz. Explore setting up the model fitting to properly describe this data. \n",
    "\n",
    "Hint: make sure you explore visualizing this data in both semi-log and log-log representations, and use this to inform the settings you need to best parameterize the data (check the tutorials for information on different model forms)."
   ]
  },
  {
   "cell_type": "code",
   "execution_count": null,
   "id": "e9e26748",
   "metadata": {},
   "outputs": [],
   "source": [
    "# Load a third example power spectra\n",
    "freqs = load_fooof_data('freqs_lfp.npy')\n",
    "powers = load_fooof_data('spectrum_lfp.npy')"
   ]
  },
  {
   "cell_type": "code",
   "execution_count": null,
   "id": "45ae6607",
   "metadata": {},
   "outputs": [],
   "source": [
    "# Define a spectral model object, with specified settings\n",
    "..."
   ]
  },
  {
   "cell_type": "code",
   "execution_count": null,
   "id": "8516d80b",
   "metadata": {},
   "outputs": [],
   "source": [
    "# Fit the spectral model to the data\n",
    "..."
   ]
  },
  {
   "cell_type": "markdown",
   "id": "cc709c7c",
   "metadata": {},
   "source": [
    "## Time Series Data\n",
    "\n",
    "Next up, we will work with some time series data.\n",
    "\n",
    "Note: to answer the specific questions asked here, you shouldn't need to import any additional functions. However, you are welcome and encouraged to import and use additional functions and tools if you wish to further explore this data. "
   ]
  },
  {
   "cell_type": "code",
   "execution_count": null,
   "id": "7d8b69b0",
   "metadata": {},
   "outputs": [],
   "source": [
    "# Import \n",
    "from neurodsp.spectral import compute_spectrum\n",
    "from neurodsp.plts import plot_time_series\n",
    "\n",
    "# Import helper function to load example time series data\n",
    "from neurodsp.utils.download import load_ndsp_data"
   ]
  },
  {
   "cell_type": "code",
   "execution_count": null,
   "id": "a9dadded",
   "metadata": {},
   "outputs": [],
   "source": [
    "# Define the sampling rate for the example data that we will use\n",
    "fs = 1000"
   ]
  },
  {
   "cell_type": "markdown",
   "id": "c4794350",
   "metadata": {},
   "source": [
    "#### Time Series Example\n",
    "\n",
    "Here, we will load an example time series of data. \n",
    "\n",
    "Visualize this data, explore it, and then compute a power spectra for the data and fit a spectral model. \n",
    "\n",
    "What do you learn about this data from exploring it?"
   ]
  },
  {
   "cell_type": "code",
   "execution_count": null,
   "id": "f6835fd1",
   "metadata": {},
   "outputs": [],
   "source": [
    "# Load an example time series\n",
    "time_series = load_ndsp_data('sample_data_2.npy')"
   ]
  },
  {
   "cell_type": "code",
   "execution_count": null,
   "id": "e8fba8e0",
   "metadata": {},
   "outputs": [],
   "source": [
    "# Plot the time series\n",
    "..."
   ]
  },
  {
   "cell_type": "code",
   "execution_count": null,
   "id": "f6dfd72b",
   "metadata": {},
   "outputs": [],
   "source": [
    "# Compute a power spectrum of the time series\n",
    "..."
   ]
  },
  {
   "cell_type": "code",
   "execution_count": null,
   "id": "8f47947b",
   "metadata": {},
   "outputs": [],
   "source": [
    "# Initialize a new spectral model to fit the power spectrum\n",
    "..."
   ]
  },
  {
   "cell_type": "code",
   "execution_count": null,
   "id": "ff65807e",
   "metadata": {},
   "outputs": [],
   "source": [
    "# Fit the spectral model to the power spectrum\n",
    "..."
   ]
  },
  {
   "cell_type": "markdown",
   "id": "d872180a",
   "metadata": {},
   "source": [
    "## Conclusion\n",
    "\n",
    "In this section, we explored the basics of fitting power spectral models to power spectra, including starting from time series. \n",
    "\n",
    "If you haven't already, make sure you explore the different settings and frequency ranges to examine and fit the data above. For all the examples, there should be a way to fit the data in a way that looks to represent a good model fit - but there are also ways to define the settings such that the model does not fit well. Explore and compare cases when the model does fit well, and when it does not."
   ]
  }
 ],
 "metadata": {
  "kernelspec": {
   "display_name": "Python 3 (ipykernel)",
   "language": "python",
   "name": "python3"
  },
  "language_info": {
   "codemirror_mode": {
    "name": "ipython",
    "version": 3
   },
   "file_extension": ".py",
   "mimetype": "text/x-python",
   "name": "python",
   "nbconvert_exporter": "python",
   "pygments_lexer": "ipython3",
   "version": "3.10.11"
  }
 },
 "nbformat": 4,
 "nbformat_minor": 5
}
